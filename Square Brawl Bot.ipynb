{
 "cells": [
  {
   "cell_type": "code",
   "execution_count": 1,
   "metadata": {
    "collapsed": false
   },
   "outputs": [
    {
     "name": "stderr",
     "output_type": "stream",
     "text": [
      "2017-02-03 23:16:18,508 INFO: Imported existing <module 'comtypes.gen' from 'C:\\\\Program Files\\\\Anaconda3\\\\envs\\\\py35_32\\\\lib\\\\site-packages\\\\comtypes\\\\gen\\\\__init__.py'>\n",
      "2017-02-03 23:16:18,512 INFO: Using writeable comtypes cache directory: 'C:\\Program Files\\Anaconda3\\envs\\py35_32\\lib\\site-packages\\comtypes\\gen'\n"
     ]
    }
   ],
   "source": [
    "import time\n",
    "import vjoy\n",
    "from pywinauto.application import Application"
   ]
  },
  {
   "cell_type": "code",
   "execution_count": 8,
   "metadata": {
    "collapsed": false
   },
   "outputs": [],
   "source": [
    "x360 = Application().Start(cmd_line=r\"C:\\Program Files (x86)\\Steam\\steamapps\\common\\Square Brawl\\x360ce.exe\")"
   ]
  },
  {
   "cell_type": "code",
   "execution_count": 9,
   "metadata": {
    "collapsed": false
   },
   "outputs": [],
   "source": [
    "def launch_game(delay=5):\n",
    "    x360 = Application().Start(cmd_line=r\"C:\\Program Files (x86)\\Steam\\steamapps\\common\\Square Brawl\\x360ce.exe\")\n",
    "    time.sleep(delay)\n",
    "    x360.Kill_()\n",
    "    \n",
    "    game = Application().Start(cmd_line=r\"C:\\Program Files (x86)\\Steam\\steamapps\\common\\Square Brawl\\Square Brawl.exe\")\n",
    "    gwindow = game.Dialog\n",
    "    gwindow.Wait('ready')\n",
    "    button = gwindow[u'Play!']\n",
    "    button.Click()\n",
    "    time.sleep(delay)\n",
    "    \n",
    "launch_game()"
   ]
  },
  {
   "cell_type": "code",
   "execution_count": 10,
   "metadata": {
    "collapsed": false
   },
   "outputs": [
    {
     "data": {
      "text/plain": [
       "'\\n----vJoy Settings-----\\nAxis: X and Y \\nPOVs: Continuous / 0\\nEffects: Disabled\\nNumber of Buttons: 8\\n----------------------\\n\\n-----x360 Controller Settings-------\\nSettings <--> auto\\nButton Mappings:\\n0 = None\\n1 = X\\n2 = A\\n4 = B\\n16 = LS\\n32 = RS\\n64 = LT\\n128 = LR\\n------------------------------------\\n\\n-----------vJoy Axis--------\\n\\ncentered\\nwAxisY=16000\\nwAxisX=16000\\n\\nmax\\nwAxisY=32000\\nwAxisX=32000\\n\\nmin\\nwAxisY=0\\nwAxisX=0\\n\\n------------------------\\n\\n'"
      ]
     },
     "execution_count": 10,
     "metadata": {},
     "output_type": "execute_result"
    }
   ],
   "source": [
    "'''\n",
    "----vJoy Settings-----\n",
    "Axis: X and Y \n",
    "POVs: Continuous / 0\n",
    "Effects: Disabled\n",
    "Number of Buttons: 8\n",
    "----------------------\n",
    "\n",
    "-----x360 Controller Settings-------\n",
    "Settings <--> auto\n",
    "Button Mappings:\n",
    "0 = None\n",
    "1 = X\n",
    "2 = A\n",
    "4 = B\n",
    "16 = LS\n",
    "32 = RS\n",
    "64 = LT\n",
    "128 = LR\n",
    "------------------------------------\n",
    "\n",
    "-----------vJoy Axis--------\n",
    "\n",
    "centered\n",
    "wAxisY=16000\n",
    "wAxisX=16000\n",
    "\n",
    "max\n",
    "wAxisY=32000\n",
    "wAxisX=32000\n",
    "\n",
    "min\n",
    "wAxisY=0\n",
    "wAxisX=0\n",
    "\n",
    "------------------------\n",
    "\n",
    "'''"
   ]
  },
  {
   "cell_type": "code",
   "execution_count": 2,
   "metadata": {
    "collapsed": false
   },
   "outputs": [
    {
     "data": {
      "text/plain": [
       "False"
      ]
     },
     "execution_count": 2,
     "metadata": {},
     "output_type": "execute_result"
    }
   ],
   "source": [
    "vj = vjoy.vJoy()\n",
    "vj.open()"
   ]
  },
  {
   "cell_type": "code",
   "execution_count": 3,
   "metadata": {
    "collapsed": true
   },
   "outputs": [],
   "source": [
    "#define button mappings\n",
    "nothing = 0\n",
    "X = 1\n",
    "A = 2\n",
    "B = 4\n",
    "LS = 16\n",
    "RS = 32\n",
    "LT = 64\n",
    "RT = 128\n",
    "\n",
    "jump = A\n",
    "firergun = RT\n",
    "firelgun = LT"
   ]
  },
  {
   "cell_type": "code",
   "execution_count": 4,
   "metadata": {
    "collapsed": false
   },
   "outputs": [],
   "source": [
    "#------------Joystick Aiming-------------------#\n",
    "\n",
    "#(0,0) is top left\n",
    "\n",
    "quadmax = 32000\n",
    "quadmin = 0\n",
    "\n",
    "def aim_centered(button=0):\n",
    "    vj.sendJoystick(x=16000,y=16000,button=button)\n",
    "def aim_br(button=0):\n",
    "    vj.sendJoystick(x=32000,y=32000,button=button)\n",
    "def aim_tr(button=0):\n",
    "    vj.sendJoystick(x=32000,y=0,button=button)\n",
    "def aim_tl(button=0):\n",
    "    vj.sendJoystick(x=0,y=0,button=button)\n",
    "def aim_bl(button=0):\n",
    "    vj.sendJoystick(x=0,y=32000,button=button)\n",
    "def aim_up(button=0):\n",
    "    vj.sendJoystick(x=16000,y=0,button=button)\n",
    "def aim_down(button=0):\n",
    "    vj.sendJoystick(x=16000,y=32000,button=button)\n",
    "def aim_right(button=0):\n",
    "    vj.sendJoystick(x=32000,y=16000,button=button)\n",
    "def aim_left(button=0):\n",
    "    vj.sendJoystick(x=0,y=16000,button=button)\n",
    "    \n",
    "#----------Menu/Select--------------------#\n",
    "def select(direction=None,button=0,spaced=0.05):  \n",
    "    spaced=0.05\n",
    "    if direction == None:\n",
    "        aim_centered(button)\n",
    "        time.sleep(spaced)\n",
    "        aim_centered(button=0)\n",
    "    elif direction == 'up':\n",
    "        aim_up(button)\n",
    "        time.sleep(spaced)\n",
    "        aim_centered(button=0)\n",
    "    elif direction == 'down':\n",
    "        aim_down(button)\n",
    "        time.sleep(spaced)\n",
    "        aim_centered(button=0)\n",
    "    elif direction == 'left':\n",
    "        aim_left(button)\n",
    "        time.sleep(spaced)\n",
    "        aim_centered(button=0)\n",
    "    else:\n",
    "        aim_right(button)\n",
    "        time.sleep(spaced)\n",
    "        aim_centered(button=0)"
   ]
  },
  {
   "cell_type": "code",
   "execution_count": 5,
   "metadata": {
    "collapsed": false
   },
   "outputs": [],
   "source": [
    "def start_game(botsOn=False,mode='easy'):\n",
    "    sleeping = 1\n",
    "    if botsOn:\n",
    "        #turn bot on#\n",
    "        time.sleep(sleeping)\n",
    "        select(direction='right',button=nothing)\n",
    "        time.sleep(sleeping)\n",
    "        select(direction='down',button=nothing)\n",
    "        time.sleep(sleeping)\n",
    "        #select 1 player\n",
    "        select(direction='left',button=nothing)\n",
    "        time.sleep(sleeping)\n",
    "        select(direction='up',button=nothing)\n",
    "        time.sleep(sleeping)\n",
    "    select(direction=None,button=A)\n",
    "    time.sleep(sleeping)\n",
    "    #select ffa\n",
    "    select(direction=None,button=A)\n",
    "    time.sleep(sleeping)\n",
    "    #select color (orange)\n",
    "    select(direction=None,button=A)\n",
    "    time.sleep(0.5)\n",
    "    if botsOn == False:\n",
    "        time.sleep(5)\n",
    "    select(direction=None,button=A)\n",
    "    time.sleep(0.5)\n",
    "    #select map\n",
    "    select(direction=None,button=A)\n",
    "    time.sleep(0.5)\n",
    "    #select guns\n",
    "    #select revolver\n",
    "    select(direction=None,button=A)\n",
    "    time.sleep(0.5)\n",
    "    #select sniper\n",
    "    select(direction='down',button=nothing)\n",
    "    time.sleep(sleeping)\n",
    "    select(direction='down',button=nothing)\n",
    "    time.sleep(sleeping)\n",
    "    select(direction='down',button=nothing)\n",
    "    time.sleep(sleeping)\n",
    "    select(direction=None,button=A)\n",
    "    \n",
    "start_game(botsOn=False)"
   ]
  },
  {
   "cell_type": "code",
   "execution_count": 6,
   "metadata": {
    "collapsed": true
   },
   "outputs": [],
   "source": [
    "#get the bot to select the variable for itself?\n",
    "def aim(x=16000,y=16000,button=0,delay=0.05):\n",
    "    vj.sendJoystick(x=x,y=y,button=button)\n",
    "    time.sleep(delay)\n",
    "    vj.sendJoystick(x=x,y=y,button=button)"
   ]
  },
  {
   "cell_type": "code",
   "execution_count": 33,
   "metadata": {
    "collapsed": false
   },
   "outputs": [
    {
     "data": {
      "text/plain": [
       "True"
      ]
     },
     "execution_count": 33,
     "metadata": {},
     "output_type": "execute_result"
    }
   ],
   "source": [
    "vj.close()"
   ]
  },
  {
   "cell_type": "code",
   "execution_count": 36,
   "metadata": {
    "collapsed": false
   },
   "outputs": [],
   "source": [
    "#testing firing the gun very quickly\n",
    "for i in range(10):\n",
    "    aim(x=16000,y=16000,button=firelgun)\n",
    "    time.sleep(0.008)"
   ]
  },
  {
   "cell_type": "code",
   "execution_count": 7,
   "metadata": {
    "collapsed": true
   },
   "outputs": [],
   "source": [
    "aim(x=16000,y=16000,button=A)"
   ]
  },
  {
   "cell_type": "code",
   "execution_count": 29,
   "metadata": {
    "collapsed": false
   },
   "outputs": [],
   "source": [
    "aim_right(firergun)"
   ]
  },
  {
   "cell_type": "code",
   "execution_count": 28,
   "metadata": {
    "collapsed": true
   },
   "outputs": [],
   "source": [
    "aim_right(A)"
   ]
  },
  {
   "cell_type": "code",
   "execution_count": null,
   "metadata": {
    "collapsed": true
   },
   "outputs": [],
   "source": [
    "iiiiiiiiiiiiiiiiiiiiiiiiiiiiiiiiiii"
   ]
  },
  {
   "cell_type": "code",
   "execution_count": 47,
   "metadata": {
    "collapsed": true
   },
   "outputs": [],
   "source": [
    "\n",
    "aim_up(firergun)\n",
    "time.sleep(1)\n",
    "aim_up(0)"
   ]
  },
  {
   "cell_type": "code",
   "execution_count": 10,
   "metadata": {
    "collapsed": false
   },
   "outputs": [
    {
     "data": {
      "text/plain": [
       "'vj.sendButtons(0)\\nvj.close()'"
      ]
     },
     "execution_count": 10,
     "metadata": {},
     "output_type": "execute_result"
    }
   ],
   "source": [
    "\n",
    "vj.open()\n",
    "#time.sleep(1)\n",
    "#vj.update(vj.generateJoystickPosition(wAxisY=32000))\n",
    "vj.update(vj.generateJoystickPosition(wAxisX=32000,wAxisY=32000))\n",
    "#time.sleep(1)\n",
    "'''vj.sendButtons(0)\n",
    "vj.close()'''"
   ]
  },
  {
   "cell_type": "code",
   "execution_count": 41,
   "metadata": {
    "collapsed": false
   },
   "outputs": [
    {
     "data": {
      "text/plain": [
       "True"
      ]
     },
     "execution_count": 41,
     "metadata": {},
     "output_type": "execute_result"
    }
   ],
   "source": [
    "\n",
    "vj.open()\n",
    "time.sleep(1)\n",
    "vj.update(vj.generateJoystickPosition(wThrottle=1))\n",
    "time.sleep(1)\n",
    "vj.sendButtons(0)\n",
    "vj.close()"
   ]
  },
  {
   "cell_type": "code",
   "execution_count": 34,
   "metadata": {
    "collapsed": false
   },
   "outputs": [
    {
     "name": "stdout",
     "output_type": "stream",
     "text": [
      "1\n",
      "2\n",
      "4\n",
      "8\n",
      "16\n"
     ]
    }
   ],
   "source": [
    "test()"
   ]
  },
  {
   "cell_type": "code",
   "execution_count": 7,
   "metadata": {
    "collapsed": false
   },
   "outputs": [
    {
     "data": {
      "text/plain": [
       "True"
      ]
     },
     "execution_count": 7,
     "metadata": {},
     "output_type": "execute_result"
    }
   ],
   "source": [
    "vj = vjoy2.vJoy()\n",
    "import time\n",
    "def test():\n",
    "    vj.open()\n",
    "    btn = 1\n",
    "    time.sleep(2)\n",
    "    for i in range(0,10,1):\n",
    "        #up\n",
    "        vj.sendButtons( btn << i )\n",
    "        print(btn << i)\n",
    "        time.sleep( 1 )\n",
    "    vj.sendButtons(0)\n",
    "    \n",
    "vj.close()\n"
   ]
  },
  {
   "cell_type": "code",
   "execution_count": 8,
   "metadata": {
    "collapsed": false
   },
   "outputs": [
    {
     "name": "stdout",
     "output_type": "stream",
     "text": [
      "1\n",
      "2\n",
      "4\n",
      "8\n",
      "16\n",
      "32\n",
      "64\n",
      "128\n",
      "256\n",
      "512\n"
     ]
    }
   ],
   "source": [
    "test()"
   ]
  },
  {
   "cell_type": "code",
   "execution_count": null,
   "metadata": {
    "collapsed": true
   },
   "outputs": [],
   "source": [
    "from ctypes import Structure, c_long, c_int, c_uint, c_char, c_void_p,\\\n",
    "                   c_ulong, c_ulonglong, windll, POINTER, sizeof,\\\n",
    "                   c_size_t, c_longlong\n",
    "from ctypes.wintypes import *\n",
    "import struct\n",
    "\n",
    "if sizeof(c_void_p) == 8:\n",
    "    ULONG_PTR = c_ulonglong\n",
    "else:\n",
    "    ULONG_PTR = c_ulong\n",
    "\n",
    "\n",
    "class MEMORY_BASIC_INFORMATION(Structure):\n",
    "    _fields_ = [('BaseAddress', c_void_p),\n",
    "                ('AllocationBase', c_void_p),\n",
    "                ('AllocationProtect', DWORD),\n",
    "                ('RegionSize', c_size_t),\n",
    "                ('State', DWORD),\n",
    "                ('Protect', DWORD),\n",
    "                ('Type', DWORD)]\n",
    "\n",
    "# https://msdn.microsoft.com/fr-fr/library/windows/desktop/aa366775(v=vs.85).aspx\n",
    "class MEMORY_BASIC_INFORMATION64(Structure):\n",
    "    _fields_ = [('BaseAddress', c_ulonglong),\n",
    "                ('AllocationBase', c_ulonglong),\n",
    "                ('AllocationProtect', DWORD),\n",
    "                ('alignement1', DWORD),\n",
    "                ('RegionSize', c_ulonglong),\n",
    "                ('State', DWORD),\n",
    "                ('Protect', DWORD),\n",
    "                ('Type', DWORD),\n",
    "                ('alignement2', DWORD)]\n",
    "\n",
    "\n",
    "\n",
    "class SYSTEM_INFO(Structure):\n",
    "    _fields_ = [('wProcessorArchitecture', WORD),\n",
    "                ('wReserved', WORD),\n",
    "                ('dwPageSize', DWORD),\n",
    "                ('lpMinimumApplicationAddress', LPVOID),\n",
    "                ('lpMaximumApplicationAddress', LPVOID),\n",
    "                ('dwActiveProcessorMask', ULONG_PTR),\n",
    "                ('dwNumberOfProcessors', DWORD),\n",
    "                ('dwProcessorType', DWORD),\n",
    "                ('dwAllocationGranularity', DWORD),\n",
    "                ('wProcessorLevel', WORD),\n",
    "                ('wProcessorRevision', WORD)]\n",
    "\n",
    "\n",
    "class PROCESSENTRY32(Structure):\n",
    "    _fields_ = [('dwSize', c_uint),\n",
    "                ('cntUsage', c_uint),\n",
    "                ('th32ProcessID', c_uint),\n",
    "                ('th32DefaultHeapID', c_uint),\n",
    "                ('th32ModuleID', c_uint),\n",
    "                ('cntThreads', c_uint),\n",
    "                ('th32ParentProcessID', c_uint),\n",
    "                ('pcPriClassBase', c_long),\n",
    "                ('dwFlags', DWORD),\n",
    "                #('dwFlags', ULONG_PTR),\n",
    "                ('szExeFile', c_char * 260),\n",
    "                ('th32MemoryBase', c_long),\n",
    "                ('th32AccessKey', c_long)]\n",
    "\n",
    "\n",
    "class MODULEENTRY32(Structure):\n",
    "    _fields_ = [('dwSize', c_uint),\n",
    "                ('th32ModuleID', c_uint),\n",
    "                ('th32ProcessID', c_uint),\n",
    "                ('GlblcntUsage', c_uint),\n",
    "                ('ProccntUsage', c_uint),\n",
    "                ('modBaseAddr', c_uint),\n",
    "                ('modBaseSize', c_uint),\n",
    "                ('hModule', c_uint),\n",
    "                ('szModule', c_char * 256),\n",
    "                ('szExePath', c_char * 260)]\n",
    "\n",
    "\n",
    "class THREADENTRY32(Structure):\n",
    "    _fields_ = [('dwSize', c_uint),\n",
    "                ('cntUsage', c_uint),\n",
    "                ('th32ThreadID', c_uint),\n",
    "                ('th32OwnerProcessID', c_uint),\n",
    "                ('tpBasePri', c_uint),\n",
    "                ('tpDeltaPri', c_uint),\n",
    "                ('dwFlags', c_uint)]\n",
    "\n",
    "\n",
    "class TH32CS_CLASS(object):\n",
    "    INHERIT = 2147483648\n",
    "    SNAPHEAPLIST = 1\n",
    "    SNAPMODULE = 8\n",
    "    SNAPMODULE32 = 16\n",
    "    SNAPPROCESS = 2\n",
    "    SNAPTHREAD = 4\n",
    "    ALL = 2032639\n",
    "\n",
    "\n",
    "Module32First = windll.kernel32.Module32First\n",
    "Module32First.argtypes = [c_void_p, POINTER(MODULEENTRY32)]\n",
    "Module32First.rettype = c_int\n",
    "Module32Next = windll.kernel32.Module32Next\n",
    "Module32Next.argtypes = [c_void_p, POINTER(MODULEENTRY32)]\n",
    "Module32Next.rettype = c_int\n",
    "\n",
    "Process32First = windll.kernel32.Process32First\n",
    "Process32First.argtypes = [c_void_p, POINTER(PROCESSENTRY32)]\n",
    "Process32First.rettype = c_int\n",
    "Process32Next = windll.kernel32.Process32Next\n",
    "Process32Next.argtypes = [c_void_p, POINTER(PROCESSENTRY32)]\n",
    "Process32Next.rettype = c_int\n",
    "\n",
    "CreateToolhelp32Snapshot = windll.kernel32.CreateToolhelp32Snapshot\n",
    "CreateToolhelp32Snapshot.reltype = c_long\n",
    "CreateToolhelp32Snapshot.argtypes = [c_int, c_int]\n",
    "\n",
    "CloseHandle = windll.kernel32.CloseHandle\n",
    "CloseHandle.argtypes = [c_void_p]\n",
    "CloseHandle.rettype = c_int\n",
    "\n",
    "OpenProcess = windll.kernel32.OpenProcess\n",
    "OpenProcess.argtypes = [c_void_p, c_int, c_long]\n",
    "OpenProcess.rettype = c_long\n",
    "OpenProcessToken = windll.advapi32.OpenProcessToken\n",
    "OpenProcessToken.argtypes = (HANDLE, DWORD, POINTER(HANDLE))\n",
    "OpenProcessToken.restype = BOOL\n",
    "\n",
    "ReadProcessMemory = windll.kernel32.ReadProcessMemory\n",
    "ReadProcessMemory.argtypes = [HANDLE, LPCVOID, LPVOID, c_size_t, POINTER(c_size_t)]\n",
    "ReadProcessMemory = windll.kernel32.ReadProcessMemory\n",
    "\n",
    "WriteProcessMemory = windll.kernel32.WriteProcessMemory\n",
    "WriteProcessMemory.argtypes = [HANDLE, LPVOID, LPCVOID, c_size_t, POINTER(c_size_t)]\n",
    "WriteProcessMemory.restype = BOOL\n",
    "\n",
    "if sizeof(c_void_p) == 8:\n",
    "    NtWow64ReadVirtualMemory64=None\n",
    "else:\n",
    "    try:\n",
    "        NtWow64ReadVirtualMemory64 = windll.ntdll.NtWow64ReadVirtualMemory64\n",
    "        NtWow64ReadVirtualMemory64.argtypes = [HANDLE, c_longlong, LPVOID, c_ulonglong, POINTER(c_ulong)] # NTSTATUS (__stdcall *NtWow64ReadVirtualMemory64)(HANDLE ProcessHandle, PVOID64 BaseAddress, PVOID Buffer, ULONGLONG BufferSize, PULONGLONG NumberOfBytesRead);\n",
    "        NtWow64ReadVirtualMemory64.restype = BOOL\n",
    "    except:\n",
    "        NtWow64ReadVirtualMemory64=None\n",
    "\n",
    "VirtualQueryEx = windll.kernel32.VirtualQueryEx\n",
    "VirtualQueryEx.argtypes = [HANDLE, LPCVOID, POINTER(MEMORY_BASIC_INFORMATION), c_size_t]\n",
    "VirtualQueryEx.restype = c_size_t\n",
    "\n",
    "#VirtualQueryEx64 = windll.kernel32.VirtualQueryEx\n",
    "#VirtualQueryEx64.argtypes = [HANDLE, LPCVOID, POINTER(MEMORY_BASIC_INFORMATION64), c_size_t]\n",
    "#VirtualQueryEx64.restype = c_size_t\n",
    "\n",
    "PAGE_EXECUTE_READWRITE = 64\n",
    "PAGE_EXECUTE_READ = 32\n",
    "PAGE_READONLY = 2\n",
    "PAGE_READWRITE = 4\n",
    "PAGE_NOCACHE = 512\n",
    "PAGE_WRITECOMBINE = 1024\n",
    "PAGE_GUARD = 256\n",
    "\n",
    "MEM_COMMIT = 4096\n",
    "MEM_FREE = 65536\n",
    "MEM_RESERVE = 8192"
   ]
  },
  {
   "cell_type": "code",
   "execution_count": null,
   "metadata": {
    "collapsed": false
   },
   "outputs": [],
   "source": [
    "import copy\n",
    "from ctypes import byref, sizeof, c_int, windll\n",
    "from ctypes import c_void_p, create_string_buffer\n",
    "from ctypes import *\n",
    "\n",
    "class Process(object):\n",
    "    def __init__(self, name):\n",
    "        hwnd = windll.user32.FindWindowW(None, name)\n",
    "        print(\"hwnd: {}\".format(hwnd))\n",
    "        pid = c_int()\n",
    "        windll.user32.GetWindowThreadProcessId(hwnd, byref(pid))\n",
    "        self.pid = pid.value\n",
    "        print(\"pid: {}\".format(pid))\n",
    "        self.process = windll.kernel32.OpenProcess(0x10, False, self.pid) # 16 = PROCESS_VM_READ (0x0010)\n",
    "\n",
    "    def read_memory(self, address, into):\n",
    "        bytesRead = ctypes.c_ulonglong(0)\n",
    "        #ctypes.byref(bytesRead)\n",
    "        if not windll.kernel32.ReadProcessMemory(self.process, address, byref(into), sizeof(into), None):\n",
    "            raise Exception(\"Could not ReadProcessMemory: \", windll.kernel32.GetLastError())\n",
    "\n",
    "    def write_memory(self, address, into):\n",
    "        count = c_ulong(100)\n",
    "        if not windll.kernel32.WriteProcessMemory(self.process, address, byref(into), sizeof(into), byref(c_ulong(0))):\n",
    "            raise Exception(\"Could not WriteProcessMemory: \", windll.kernel32.GetLastError())\n",
    "    \n",
    "    def WriteMem(self, adress, value):\n",
    "        src = ctypes.c_float(value)\n",
    "        length = struct.calcsize('f')\n",
    "        dst = ctypes.cast(adress, ctypes.c_char_p)\n",
    "        if ctypes.windll.kernel32.WriteProcessMemory(self.process, dst, ctypes.addressof(src), length, byref(c_ulong(0))):\n",
    "            return True\n",
    "        else:\n",
    "            return False\n",
    "        \n",
    "    def write_bytes(self, handle, address, src, length):\n",
    "    \n",
    "        if not isinstance(address, int):\n",
    "            raise TypeError('Address must be int: {}'.format(address))\n",
    "        dst = ctypes.cast(address, ctypes.c_char_p)\n",
    "        ctypes.windll.kernel32.SetLastError(0)\n",
    "        res = ctypes.windll.kernel32.WriteProcessMemory(handle, dst, src, length, byref(c_ulong(0)))\n",
    "        error_code = ctypes.windll.kernel32.GetLastError()\n",
    "        if error_code:\n",
    "            ctypes.windll.kernel32.SetLastError(0)\n",
    "            raise pymem.exception.WinAPIError(error_code)\n",
    "        return res\n",
    "\n",
    "    def write_float(self, address, value):\n",
    "        src = ctypes.c_float(value)\n",
    "        length = struct.calcsize('f')\n",
    "        res = self.write_bytes(self.process, address, ctypes.addressof(src), length)\n",
    "        return res\n",
    "\n",
    "    def list_modules(self):\n",
    "        module_list = []\n",
    "        if self.pid is not None:\n",
    "            hModuleSnap = CreateToolhelp32Snapshot(TH32CS_CLASS.SNAPMODULE, self.pid)\n",
    "            if hModuleSnap is not None:\n",
    "                module_entry = MODULEENTRY32()\n",
    "                module_entry.dwSize = sizeof(module_entry)\n",
    "                success = Module32First(hModuleSnap, byref(module_entry))\n",
    "                while success:\n",
    "                    if module_entry.th32ProcessID == self.pid:\n",
    "                        module_list.append(copy.copy(module_entry))\n",
    "                    success = Module32Next(hModuleSnap, byref(module_entry))\n",
    "\n",
    "                CloseHandle(hModuleSnap)\n",
    "        return module_list\n",
    "\n",
    "    def get_module_base(self, module_name):\n",
    "        for module in self.list_modules():\n",
    "            if module.szModule.decode('UTF-8').lower() == module_name.lower():\n",
    "                return module.modBaseAddr"
   ]
  },
  {
   "cell_type": "code",
   "execution_count": null,
   "metadata": {
    "collapsed": false
   },
   "outputs": [],
   "source": [
    "process = Process(\"Square Brawl\")"
   ]
  },
  {
   "cell_type": "code",
   "execution_count": null,
   "metadata": {
    "collapsed": true
   },
   "outputs": [],
   "source": [
    "baseaddr = {'p2_health':0x101F30AC,\n",
    "           'p1_health':0x101F3648}\n",
    "\n",
    "offsets = {'p2_health':[0x1258,0x400,0xB3C],\n",
    "          'p1_health':[0x2A8,0x55C,0x58,0x14,0x3FC]}"
   ]
  },
  {
   "cell_type": "code",
   "execution_count": null,
   "metadata": {
    "collapsed": false
   },
   "outputs": [],
   "source": [
    "def get_dyn_addr(baseaddr,offsets):\n",
    "    long = c_long()\n",
    "    process.read_memory(baseaddr, long)\n",
    "    nextaddr = long.value\n",
    "    for offset in offsets[:-1]:\n",
    "        readaddr = nextaddr + offset\n",
    "        log = c_long()\n",
    "        process.read_memory(readaddr, log)\n",
    "        nextaddr = log.value\n",
    "    dynaddr = nextaddr + offsets[-1]\n",
    "    return dynaddr"
   ]
  },
  {
   "cell_type": "code",
   "execution_count": null,
   "metadata": {
    "collapsed": false
   },
   "outputs": [],
   "source": [
    "p1_health_addr = get_dyn_addr(baseaddr['p1_health'],offsets['p1_health'])\n",
    "p2_health_addr = get_dyn_addr(baseaddr['p2_health'],offsets['p2_health'])"
   ]
  },
  {
   "cell_type": "code",
   "execution_count": null,
   "metadata": {
    "collapsed": false
   },
   "outputs": [],
   "source": [
    "\n",
    "process.write_float(p2_health_addr,100)\n"
   ]
  },
  {
   "cell_type": "code",
   "execution_count": null,
   "metadata": {
    "collapsed": false
   },
   "outputs": [],
   "source": [
    "def get_feature(address, value=c_float()):\n",
    "    v = value\n",
    "    process.read_memory(address, v)\n",
    "    return v.value"
   ]
  },
  {
   "cell_type": "code",
   "execution_count": null,
   "metadata": {
    "collapsed": false
   },
   "outputs": [],
   "source": [
    "get_feature(p2_health_addr,c_float())"
   ]
  },
  {
   "cell_type": "code",
   "execution_count": null,
   "metadata": {
    "collapsed": false
   },
   "outputs": [],
   "source": [
    "static_addr = {\n",
    "    'p2_health':0x101F30AC,\n",
    "    'p1_health':0x01BAE188,\n",
    "               }\n",
    "values = ['p2_health','p1_health']\n",
    "\n",
    "dynam_addr = {}\n",
    "for i in values:    \n",
    "    long = c_long()\n",
    "    process.read_memory(static_addr[i],long)\n",
    "    base_address[i] = long.value\n",
    "    \n",
    "print(hex(base_address['p2_health']))\n",
    "print(hex(base_address['p1_health']))"
   ]
  },
  {
   "cell_type": "code",
   "execution_count": null,
   "metadata": {
    "collapsed": false
   },
   "outputs": [],
   "source": [
    "offsets ={\n",
    "    'p2_health' : [-0x35f0, -0x2c52ea8, 0xb3c] #[-13808,-46476968, 2876],\n",
    "}"
   ]
  },
  {
   "cell_type": "code",
   "execution_count": null,
   "metadata": {
    "collapsed": false
   },
   "outputs": [],
   "source": [
    "int(str((0x493bd10))) + 0x00"
   ]
  },
  {
   "cell_type": "code",
   "execution_count": null,
   "metadata": {
    "collapsed": false
   },
   "outputs": [],
   "source": [
    "int(str(0x49aa370))"
   ]
  },
  {
   "cell_type": "code",
   "execution_count": null,
   "metadata": {
    "collapsed": false
   },
   "outputs": [],
   "source": [
    "int(str(0x49aa370), 0) + int(str(0), 0)"
   ]
  },
  {
   "cell_type": "code",
   "execution_count": null,
   "metadata": {
    "collapsed": false
   },
   "outputs": [],
   "source": [
    "def CalculateOffset(ModuleAddress, offsets=[]):\n",
    "            if len(offsets) == 1:\n",
    "                address = int(str(ModuleAddress), 0) + int(str(offsets[0]), 0)\n",
    "                pointer = D.read_int(address)\n",
    "                return hex(pointer[0])\n",
    "            else:\n",
    "                OBA = 0\n",
    "                count = len(offsets)\n",
    "                for i in offsets:\n",
    "                    if OBA == 0: ModuleA = ModuleAddress\n",
    "                   \n",
    "                    address = int(str(ModuleA), 0) + int(str(i), 0)\n",
    "                    pointer = D.read_int(address)\n",
    "                    ModuleA = pointer[0]\n",
    "                    OBA = 1\n",
    "                    count -= 1\n",
    "                    BaseAddress = pointer[1]\n",
    "                return BaseAddress "
   ]
  },
  {
   "cell_type": "code",
   "execution_count": null,
   "metadata": {
    "collapsed": false
   },
   "outputs": [],
   "source": [
    "CalculateOffset(0x493bd10,[0,54])"
   ]
  },
  {
   "cell_type": "code",
   "execution_count": null,
   "metadata": {
    "collapsed": false
   },
   "outputs": [],
   "source": [
    "x = [-0x35f0, -0x2c52ea8, 0xb3c]\n",
    "#x = [-13808,-46476968, 2876]\n",
    "total = base_address['p2_health']\n",
    "\n",
    "for i in x:\n",
    "    total = total + i\n",
    "hex(total)"
   ]
  },
  {
   "cell_type": "code",
   "execution_count": null,
   "metadata": {
    "collapsed": false
   },
   "outputs": [],
   "source": [
    "hex(0x0f8c6b68 - 0x12519a10)"
   ]
  },
  {
   "cell_type": "code",
   "execution_count": null,
   "metadata": {
    "collapsed": false
   },
   "outputs": [],
   "source": [
    "\n",
    "#player_two_addr_base = 0x138c9f54#0x109a9f54 \n",
    "#offset_init = 0x1F30AC \n",
    "o_b3c = 0xb3c\n",
    "o_400 = -0x1812ea8\n",
    "o_1258 = -0x35f0\n",
    "player_two_health_addr = 0x1251d000 + o_1258 + o_400 + o_b3c\n",
    "hex(player_two_health_addr)"
   ]
  },
  {
   "cell_type": "code",
   "execution_count": null,
   "metadata": {
    "collapsed": false
   },
   "outputs": [],
   "source": [
    "hex(0x905a4d + 0x1F30AC + 0x1258 + 0x400 + 0xb3c)"
   ]
  },
  {
   "cell_type": "code",
   "execution_count": null,
   "metadata": {
    "collapsed": false
   },
   "outputs": [],
   "source": [
    "player_two_health = c_float()\n",
    "process.read_memory(player_two_health_addr, player_two_health)\n",
    "player_two_health.value"
   ]
  },
  {
   "cell_type": "code",
   "execution_count": null,
   "metadata": {
    "collapsed": false
   },
   "outputs": [],
   "source": [
    "mono = 0x10000000\n",
    "mono2 = 0x00905a4d\n",
    "\n",
    "mono = hex(mono+0x001F30AC+0x1258+0x400+0xb3c)\n",
    "print(mono)"
   ]
  },
  {
   "cell_type": "code",
   "execution_count": null,
   "metadata": {
    "collapsed": false
   },
   "outputs": [],
   "source": [
    "player_two_health = c_float()\n",
    "process.read_memory(mono, player_two_health)\n",
    "player_two_health.value"
   ]
  },
  {
   "cell_type": "code",
   "execution_count": null,
   "metadata": {
    "collapsed": false
   },
   "outputs": [],
   "source": [
    "player_two_health = c_long()\n",
    "process.read_memory(0x101F30AC,player_two_health)\n",
    "hex(player_two_health.value)"
   ]
  },
  {
   "cell_type": "code",
   "execution_count": null,
   "metadata": {
    "collapsed": false
   },
   "outputs": [],
   "source": [
    "mono = process.get_module_base(\"mono.dll\")\n",
    "hex(mono)"
   ]
  },
  {
   "cell_type": "code",
   "execution_count": null,
   "metadata": {
    "collapsed": true
   },
   "outputs": [],
   "source": [
    "mono = 0x10000000\n",
    "mono2 = 0x00905a4d"
   ]
  },
  {
   "cell_type": "code",
   "execution_count": null,
   "metadata": {
    "collapsed": false
   },
   "outputs": [],
   "source": [
    "hex(mono2+0x001F30AC+0x1258+0x400+0xb3c)"
   ]
  },
  {
   "cell_type": "code",
   "execution_count": null,
   "metadata": {
    "collapsed": false
   },
   "outputs": [],
   "source": [
    "hex(0x13abd000 - 0x10000000)"
   ]
  },
  {
   "cell_type": "code",
   "execution_count": null,
   "metadata": {
    "collapsed": false
   },
   "outputs": [],
   "source": [
    "hex(0x10b9d000 - 0x001F30AC)"
   ]
  },
  {
   "cell_type": "code",
   "execution_count": null,
   "metadata": {
    "collapsed": false
   },
   "outputs": [],
   "source": [
    "hex(process.get_module_base(\"kernel32.dll\"))"
   ]
  },
  {
   "cell_type": "code",
   "execution_count": null,
   "metadata": {
    "collapsed": false
   },
   "outputs": [],
   "source": [
    "l = process.list_modules()"
   ]
  },
  {
   "cell_type": "code",
   "execution_count": null,
   "metadata": {
    "collapsed": false
   },
   "outputs": [],
   "source": [
    "from ctypes import *\n",
    "from ctypes.wintypes import *\n",
    "from time import sleep\n",
    "\n",
    "appBase = c_int()\n",
    "numRead = c_int()\n",
    "ReadProcessMemory(process, 0x694B00, byref(appBase), 4, byref(numRead))\n"
   ]
  },
  {
   "cell_type": "code",
   "execution_count": null,
   "metadata": {
    "collapsed": false
   },
   "outputs": [],
   "source": [
    "process"
   ]
  },
  {
   "cell_type": "code",
   "execution_count": null,
   "metadata": {
    "collapsed": true
   },
   "outputs": [],
   "source": [
    "ReadProcessMemory(processHandle, 0x694B00, byref(appBase), 4, byref(numRead))\n",
    "\n",
    "# Read out player angle:\n",
    "playerAngle = c_int()\n",
    "while True:\n",
    "    ReadProcessMemory(processHandle, appBase.value + 0x2958, byref(playerAngle), 4, byref(numRead))\n",
    "    print 'Player angle: %3d' % playerAngle.value\n",
    "    sleep(1.0)"
   ]
  }
 ],
 "metadata": {
  "anaconda-cloud": {},
  "kernelspec": {
   "display_name": "Python [conda env:py35_32]",
   "language": "python",
   "name": "conda-env-py35_32-py"
  },
  "language_info": {
   "codemirror_mode": {
    "name": "ipython",
    "version": 3
   },
   "file_extension": ".py",
   "mimetype": "text/x-python",
   "name": "python",
   "nbconvert_exporter": "python",
   "pygments_lexer": "ipython3",
   "version": "3.5.2"
  }
 },
 "nbformat": 4,
 "nbformat_minor": 1
}
