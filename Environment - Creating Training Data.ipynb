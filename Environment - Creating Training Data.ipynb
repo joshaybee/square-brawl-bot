{
 "cells": [
  {
   "cell_type": "code",
   "execution_count": 426,
   "metadata": {
    "collapsed": true,
    "scrolled": true
   },
   "outputs": [],
   "source": [
    "import numpy as np\n",
    "import time\n",
    "import pandas as pd\n",
    "\n",
    "from game_functions.environment import sbfeatures as sbf\n",
    "from game_functions.model import brain"
   ]
  },
  {
   "cell_type": "code",
   "execution_count": 427,
   "metadata": {},
   "outputs": [
    {
     "name": "stdout",
     "output_type": "stream",
     "text": [
      "init\n"
     ]
    }
   ],
   "source": [
    "env = sbf.Environment()"
   ]
  },
  {
   "cell_type": "code",
   "execution_count": 428,
   "metadata": {},
   "outputs": [
    {
     "data": {
      "text/plain": [
       "5"
      ]
     },
     "execution_count": 428,
     "metadata": {},
     "output_type": "execute_result"
    }
   ],
   "source": [
    "env.controller(initialize=True, close=True)\n",
    "env.controller(initialize=True, opens=True)\n",
    "env.action(5, delay=0.1)"
   ]
  },
  {
   "cell_type": "code",
   "execution_count": 429,
   "metadata": {},
   "outputs": [
    {
     "name": "stdout",
     "output_type": "stream",
     "text": [
      "launching game...\n"
     ]
    }
   ],
   "source": [
    "env.make()"
   ]
  },
  {
   "cell_type": "code",
   "execution_count": 430,
   "metadata": {
    "collapsed": true
   },
   "outputs": [],
   "source": [
    "env.start_game(botsOn=True, mode='easy')"
   ]
  },
  {
   "cell_type": "code",
   "execution_count": 431,
   "metadata": {},
   "outputs": [
    {
     "name": "stdout",
     "output_type": "stream",
     "text": [
      "hwnd: 200002\n",
      "pid: c_long(9788)\n"
     ]
    }
   ],
   "source": [
    "env.initalize_memory()"
   ]
  },
  {
   "cell_type": "code",
   "execution_count": 432,
   "metadata": {},
   "outputs": [
    {
     "name": "stdout",
     "output_type": "stream",
     "text": [
      "[100.0, 3.0, 4.0, 100.0, -8.0, -6.0, 0, 1, 1, 0, 0, 0, 0, 0, 0, 0, 0, 1, 3.0, -8.0, 4.0, -6.0]\n"
     ]
    }
   ],
   "source": [
    "print(env.observation())\n",
    "#env.__grab_addresses__()\n",
    "#env.__grab_features__()"
   ]
  },
  {
   "cell_type": "code",
   "execution_count": 433,
   "metadata": {},
   "outputs": [
    {
     "name": "stdout",
     "output_type": "stream",
     "text": [
      "0 0\n"
     ]
    }
   ],
   "source": [
    "print(env.p1_score, env.p2_score)"
   ]
  },
  {
   "cell_type": "code",
   "execution_count": 434,
   "metadata": {},
   "outputs": [
    {
     "name": "stdout",
     "output_type": "stream",
     "text": [
      "Reward structure defined!\n"
     ]
    }
   ],
   "source": [
    "env.reward_structure(p1_death=-1, p2_death=1, p1_damage=-0.01, p2_damage=0.01)"
   ]
  },
  {
   "cell_type": "code",
   "execution_count": 435,
   "metadata": {},
   "outputs": [
    {
     "name": "stdout",
     "output_type": "stream",
     "text": [
      "[100.0, 3.0, 4.3, 100.0, -8.0, -5.7, 0, 1, 1, 0, 0, 0, 0, 0, 0, 0, 0, 1, 0.0, 0.0, 0.2999999999999998, 0.2999999999999998]\n"
     ]
    }
   ],
   "source": [
    "#print(env.features)\n",
    "print(env.observation())"
   ]
  },
  {
   "cell_type": "code",
   "execution_count": 436,
   "metadata": {},
   "outputs": [
    {
     "name": "stdout",
     "output_type": "stream",
     "text": [
      "0\n"
     ]
    }
   ],
   "source": [
    "print(env.reward(stale_observation=env.features, \n",
    "                 new_observation=env.observation()))"
   ]
  },
  {
   "cell_type": "code",
   "execution_count": 437,
   "metadata": {
    "scrolled": true
   },
   "outputs": [
    {
     "data": {
      "text/plain": [
       "5"
      ]
     },
     "execution_count": 437,
     "metadata": {},
     "output_type": "execute_result"
    }
   ],
   "source": [
    "\n",
    "env.action(5, delay=0.1)"
   ]
  },
  {
   "cell_type": "code",
   "execution_count": 457,
   "metadata": {
    "collapsed": true
   },
   "outputs": [],
   "source": [
    "from keras.models import Sequential\n",
    "from keras.layers import Dense, Activation\n",
    "from keras.optimizers import Adam\n",
    "from keras.layers import Dropout\n",
    "from keras.layers import advanced_activations\n",
    "from keras import initializers\n",
    "\n",
    "def keras_model(inputs, dropouts=0.05, opti=1e-6, clipping=None, clipval=None):\n",
    "    keras_model = Sequential()\n",
    "    \n",
    "    keras_model.add(Dense(128, input_dim=inputs, \n",
    "                          kernel_initializer=initializers.RandomNormal(mean=1.0, stddev=0.1), \n",
    "                          activation='relu'))\n",
    "    #keras_model.add(advanced_activations.LeakyReLU(alpha=0.01))\n",
    "    #keras_model.add(advanced_activations.ELU(alpha=1))\n",
    "    keras_model.add(Dropout(dropouts))\n",
    "    \n",
    "    keras_model.add(Dense(128, input_dim=inputs, \n",
    "                          kernel_initializer=initializers.RandomNormal(mean=1.0, stddev=0.1),\n",
    "                          activation='relu'))\n",
    "    #keras_model.add(advanced_activations.LeakyReLU(alpha=0.01))\n",
    "    #keras_model.add(advanced_activations.ELU(alpha=1))\n",
    "    keras_model.add(Dropout(dropouts))\n",
    "    \n",
    "    keras_model.add(Dense(1))\n",
    "    adam = Adam(lr=opti, clipnorm=clipping, clipvalue=clipval)\n",
    "    keras_model.compile(loss='mse', optimizer='adam')\n",
    "    return keras_model"
   ]
  },
  {
   "cell_type": "code",
   "execution_count": 460,
   "metadata": {
    "collapsed": true
   },
   "outputs": [],
   "source": [
    "input_shape = 17\n",
    "\n",
    "\n",
    "Qas = keras_model(inputs=input_shape, dropouts=0.1, opti=1e-6, clipping=None, clipval=None)\n",
    "\n",
    "#Qas.load_weights('SB-Qas-v1-20170620.keras')\n",
    "Qas.load_weights('model_weights//kill_rewards_TD25_LA//2750000_model_backup_20170627_2326.keras')\n",
    "#Qas.load_weights('model_weights//kill_rewards_v2//1750000_model_backup_20170626_0543.keras')"
   ]
  },
  {
   "cell_type": "code",
   "execution_count": 461,
   "metadata": {},
   "outputs": [
    {
     "name": "stdout",
     "output_type": "stream",
     "text": [
      "Error Reading Memory\n",
      "Error Reading Memory\n",
      "Error Reading Memory\n",
      "Error Reading Memory\n",
      "Error Reading Memory\n",
      "Error Reading Memory\n",
      "Saving Training Experience...\n",
      "Error Reading Memory\n",
      "Saving Training Experience...\n"
     ]
    },
    {
     "ename": "KeyboardInterrupt",
     "evalue": "",
     "output_type": "error",
     "traceback": [
      "\u001b[1;31m---------------------------------------------------------------------------\u001b[0m",
      "\u001b[1;31mKeyboardInterrupt\u001b[0m                         Traceback (most recent call last)",
      "\u001b[1;32m<ipython-input-461-7db869c84c8b>\u001b[0m in \u001b[0;36m<module>\u001b[1;34m()\u001b[0m\n\u001b[0;32m     34\u001b[0m                 \u001b[0maction\u001b[0m \u001b[1;33m=\u001b[0m \u001b[0mrandom\u001b[0m\u001b[1;33m.\u001b[0m\u001b[0mrandint\u001b[0m\u001b[1;33m(\u001b[0m\u001b[1;36m0\u001b[0m\u001b[1;33m,\u001b[0m \u001b[1;36m7\u001b[0m\u001b[1;33m)\u001b[0m\u001b[1;33m\u001b[0m\u001b[0m\n\u001b[0;32m     35\u001b[0m \u001b[1;33m\u001b[0m\u001b[0m\n\u001b[1;32m---> 36\u001b[1;33m         \u001b[0menv\u001b[0m\u001b[1;33m.\u001b[0m\u001b[0maction\u001b[0m\u001b[1;33m(\u001b[0m\u001b[0maction\u001b[0m\u001b[1;33m,\u001b[0m \u001b[0mdelay\u001b[0m\u001b[1;33m=\u001b[0m\u001b[1;36m0.1\u001b[0m\u001b[1;33m)\u001b[0m\u001b[1;33m\u001b[0m\u001b[0m\n\u001b[0m\u001b[0;32m     37\u001b[0m \u001b[1;33m\u001b[0m\u001b[0m\n\u001b[0;32m     38\u001b[0m         \u001b[0mobservation\u001b[0m \u001b[1;33m=\u001b[0m \u001b[0menv\u001b[0m\u001b[1;33m.\u001b[0m\u001b[0mobservation\u001b[0m\u001b[1;33m(\u001b[0m\u001b[1;33m)\u001b[0m\u001b[1;33m[\u001b[0m\u001b[1;33m:\u001b[0m\u001b[1;33m]\u001b[0m\u001b[1;33m\u001b[0m\u001b[0m\n",
      "\u001b[1;32m~\\Desktop\\memorpy\\SBbot\\game_functions\\environment\\sbfeatures.py\u001b[0m in \u001b[0;36maction\u001b[1;34m(self, move, delay)\u001b[0m\n\u001b[0;32m    366\u001b[0m             \u001b[0mpb\u001b[0m \u001b[1;33m=\u001b[0m \u001b[0mbm\u001b[0m\u001b[1;33m.\u001b[0m\u001b[0mnone\u001b[0m\u001b[1;33m\u001b[0m\u001b[0m\n\u001b[0;32m    367\u001b[0m             \u001b[0mdelay\u001b[0m \u001b[1;33m=\u001b[0m \u001b[0mdelay\u001b[0m\u001b[1;33m\u001b[0m\u001b[0m\n\u001b[1;32m--> 368\u001b[1;33m         \u001b[0mvj\u001b[0m\u001b[1;33m.\u001b[0m\u001b[0maim\u001b[0m\u001b[1;33m(\u001b[0m\u001b[0mx\u001b[0m\u001b[1;33m=\u001b[0m\u001b[0mmvx\u001b[0m\u001b[1;33m,\u001b[0m \u001b[0my\u001b[0m\u001b[1;33m=\u001b[0m\u001b[0mmvy\u001b[0m\u001b[1;33m,\u001b[0m \u001b[0mbutton\u001b[0m\u001b[1;33m=\u001b[0m\u001b[0mpb\u001b[0m\u001b[1;33m,\u001b[0m \u001b[0mdelay\u001b[0m\u001b[1;33m=\u001b[0m\u001b[0mdelay\u001b[0m\u001b[1;33m)\u001b[0m\u001b[1;33m\u001b[0m\u001b[0m\n\u001b[0m\u001b[0;32m    369\u001b[0m         \u001b[1;32mreturn\u001b[0m \u001b[0mmove\u001b[0m\u001b[1;33m\u001b[0m\u001b[0m\n\u001b[0;32m    370\u001b[0m \u001b[1;33m\u001b[0m\u001b[0m\n",
      "\u001b[1;32m~\\Desktop\\memorpy\\SBbot\\game_functions\\controller\\vjoy_controller.py\u001b[0m in \u001b[0;36maim\u001b[1;34m(self, x, y, button, defaultbutton, delay)\u001b[0m\n\u001b[0;32m    132\u001b[0m     \u001b[1;32mdef\u001b[0m \u001b[0maim\u001b[0m\u001b[1;33m(\u001b[0m\u001b[0mself\u001b[0m\u001b[1;33m,\u001b[0m \u001b[0mx\u001b[0m\u001b[1;33m=\u001b[0m\u001b[1;36m16000\u001b[0m\u001b[1;33m,\u001b[0m \u001b[0my\u001b[0m\u001b[1;33m=\u001b[0m\u001b[1;36m16000\u001b[0m\u001b[1;33m,\u001b[0m \u001b[0mbutton\u001b[0m\u001b[1;33m=\u001b[0m\u001b[1;36m0\u001b[0m\u001b[1;33m,\u001b[0m  \u001b[0mdefaultbutton\u001b[0m\u001b[1;33m=\u001b[0m\u001b[1;36m0\u001b[0m\u001b[1;33m,\u001b[0m \u001b[0mdelay\u001b[0m\u001b[1;33m=\u001b[0m\u001b[1;36m0.05\u001b[0m\u001b[1;33m)\u001b[0m\u001b[1;33m:\u001b[0m\u001b[1;33m\u001b[0m\u001b[0m\n\u001b[0;32m    133\u001b[0m         \u001b[0mself\u001b[0m\u001b[1;33m.\u001b[0m\u001b[0msendJoystick\u001b[0m\u001b[1;33m(\u001b[0m\u001b[0mx\u001b[0m\u001b[1;33m=\u001b[0m\u001b[0mx\u001b[0m\u001b[1;33m,\u001b[0m \u001b[0my\u001b[0m\u001b[1;33m=\u001b[0m\u001b[0my\u001b[0m\u001b[1;33m,\u001b[0m \u001b[0mbutton\u001b[0m\u001b[1;33m=\u001b[0m\u001b[0mbutton\u001b[0m\u001b[1;33m)\u001b[0m\u001b[1;33m\u001b[0m\u001b[0m\n\u001b[1;32m--> 134\u001b[1;33m         \u001b[0mtime\u001b[0m\u001b[1;33m.\u001b[0m\u001b[0msleep\u001b[0m\u001b[1;33m(\u001b[0m\u001b[0mdelay\u001b[0m\u001b[1;33m)\u001b[0m\u001b[1;33m\u001b[0m\u001b[0m\n\u001b[0m\u001b[0;32m    135\u001b[0m         \u001b[0mself\u001b[0m\u001b[1;33m.\u001b[0m\u001b[0msendJoystick\u001b[0m\u001b[1;33m(\u001b[0m\u001b[0mx\u001b[0m\u001b[1;33m=\u001b[0m\u001b[1;36m16000\u001b[0m\u001b[1;33m,\u001b[0m \u001b[0my\u001b[0m\u001b[1;33m=\u001b[0m\u001b[1;36m16000\u001b[0m\u001b[1;33m,\u001b[0m \u001b[0mbutton\u001b[0m\u001b[1;33m=\u001b[0m\u001b[0mdefaultbutton\u001b[0m\u001b[1;33m)\u001b[0m\u001b[1;33m\u001b[0m\u001b[0m\n\u001b[0;32m    136\u001b[0m \u001b[1;33m\u001b[0m\u001b[0m\n",
      "\u001b[1;31mKeyboardInterrupt\u001b[0m: "
     ]
    }
   ],
   "source": [
    "import time\n",
    "import random\n",
    "import datetime\n",
    "\n",
    "episode = 0\n",
    "training_backup = 5000\n",
    "save_location = \"training_data\\\\\"\n",
    "training_batch = []\n",
    "\n",
    "# action settings\n",
    "randomness = True\n",
    "\n",
    "#score keeping\n",
    "p1_score = 0\n",
    "p2_score = 0\n",
    "\n",
    "#init#\n",
    "prev_observation = env.observation()[:]\n",
    "observation = env.observation()[:]\n",
    "header = ['episode','p1h', 'p1_x',' p1_y', 'p2h', 'p2_x',' p2_y',\n",
    "          'right_of', 'left_of', 'above', 'below', 'x_clear', 'y_clear',\n",
    "          'cd1', 'cd2',\n",
    "         'aim_down', 'aim_left', 'aim_up', 'aim_right',\n",
    "         'p1_x_delta', 'p2_x_delta', 'p1_y_delta', 'p2_y_delta',\n",
    "         'action', 'reward', 'p1_score', 'p2_score']\n",
    "\n",
    "while True:\n",
    "    try:\n",
    "        episode += 1\n",
    "        \n",
    "        #random action\n",
    "        if randomness:\n",
    "            if random.randint(0,10) <= -1:\n",
    "                action = random.randint(0, 7)\n",
    "\n",
    "        env.action(action, delay=0.1)\n",
    "        \n",
    "        observation = env.observation()[:]\n",
    "        reward = env.reward(stale_observation=prev_observation, \n",
    "                            new_observation=observation)\n",
    "        prev_observation = observation\n",
    "        \n",
    "        datapoint = [episode]\n",
    "        datapoint.extend(observation)\n",
    "        datapoint.append(action)\n",
    "        datapoint.append(reward)\n",
    "        datapoint.extend([env.p1_score + 25000, env.p2_score + 25000])\n",
    "        training_batch.append(datapoint)\n",
    "        \n",
    "        #-------model-----------#\n",
    "        modelpoint = list(datapoint)\n",
    "        modelpoint.pop(-1) # p2 score\n",
    "        modelpoint.pop(-1) # p1  score\n",
    "        modelpoint.pop(-1) # reward\n",
    "        modelpoint.pop(-1) # action\n",
    "        modelpoint.pop(-1) # delta\n",
    "        modelpoint.pop(-1) # delta\n",
    "        modelpoint.pop(-1) # delta\n",
    "        modelpoint.pop(-1) # delta\n",
    "        modelpoint.pop(4) # p2 health\n",
    "        modelpoint.pop(1) # p1 health\n",
    "        modelpoint.pop(0) # episode\n",
    "        \n",
    "        predictions = env.create_predictions(modelpoint)\n",
    "        action_rewards = Qas.predict(predictions[1:-1])\n",
    "        \n",
    "        #---action = np.where(advantage == np.amax(advantage))[0][0]\n",
    "        action = np.where(action_rewards == np.amax(action_rewards))[0][0] # greedy action\n",
    "        \n",
    "        #-----------backup----------#\n",
    "        if (len(training_batch) % training_backup) == 0:\n",
    "            name =  save_location + str(episode) + '_training_backup_' + datetime.datetime.today().strftime('%Y%m%d_%H%M') + '.csv'\n",
    "            exp = pd.DataFrame(training_batch)\n",
    "            exp.columns = header\n",
    "            exp.to_csv(name, index=False)\n",
    "            print('Saving Training Experience...')\n",
    "            training_batch = []\n",
    "        \n",
    "    except Exception:\n",
    "        episode -= 1\n",
    "        print('Error Reading Memory')\n",
    "        time.sleep(0.25)\n",
    "        \n",
    "; #4294942296"
   ]
  },
  {
   "cell_type": "code",
   "execution_count": 419,
   "metadata": {},
   "outputs": [
    {
     "data": {
      "text/plain": [
       "[[1.4, -7.0, -12.2, -7.2, 0, 1, 1, 0, 0, 1, 2, 0, 0, 0, 0, 1, 1],\n",
       " [1.4, -7.0, -12.2, -7.2, 0, 1, 1, 0, 0, 1, 2, 0, 0, 0, 0, 1, 2],\n",
       " [1.4, -7.0, -12.2, -7.2, 0, 1, 1, 0, 0, 1, 2, 0, 0, 0, 0, 1, 3],\n",
       " [1.4, -7.0, -12.2, -7.2, 0, 1, 1, 0, 0, 1, 2, 0, 0, 0, 0, 1, 4],\n",
       " [1.4, -7.0, -12.2, -7.2, 0, 1, 1, 0, 0, 1, 2, 0, 0, 0, 0, 1, 5],\n",
       " [1.4, -7.0, -12.2, -7.2, 0, 1, 1, 0, 0, 1, 2, 0, 0, 0, 0, 1, 6]]"
      ]
     },
     "execution_count": 419,
     "metadata": {},
     "output_type": "execute_result"
    }
   ],
   "source": [
    "predictions[1:-1]"
   ]
  },
  {
   "cell_type": "code",
   "execution_count": 40,
   "metadata": {},
   "outputs": [
    {
     "name": "stdout",
     "output_type": "stream",
     "text": [
      "[1, 100.0, 2.0, 6.2, 100.0, -7.0, -4.8, 0, 1, 1, 0, 0, 0, 0, 0, 0, 0, 0, 1, 0.0, 0.0, 0.0, 0.0, 5, 0, 0, 0]\n"
     ]
    }
   ],
   "source": [
    "modelpoint = []\n",
    "modelpoint.extend(datapoint)\n",
    "print(modelpoint)"
   ]
  },
  {
   "cell_type": "code",
   "execution_count": 41,
   "metadata": {},
   "outputs": [
    {
     "name": "stdout",
     "output_type": "stream",
     "text": [
      "[100.0, 2.0, 100.0, -7.0, -4.8, 0, 1, 1, 0, 0, 0, 0, 0, 0, 0, 0, 1, 0.0, 0.0, 0.0, 0.0]\n",
      "21\n"
     ]
    }
   ],
   "source": [
    "modelpoint.pop(-1)\n",
    "modelpoint.pop(-1)\n",
    "modelpoint.pop(-1)\n",
    "modelpoint.pop(-1)\n",
    "modelpoint.pop(3)\n",
    "modelpoint.pop(0)\n",
    "\n",
    "print(modelpoint)\n",
    "print(len(modelpoint))"
   ]
  },
  {
   "cell_type": "code",
   "execution_count": 13,
   "metadata": {
    "collapsed": true
   },
   "outputs": [],
   "source": [
    "env.switch = True"
   ]
  },
  {
   "cell_type": "code",
   "execution_count": 14,
   "metadata": {},
   "outputs": [
    {
     "data": {
      "text/plain": [
       "[100.0,\n",
       " -9.3,\n",
       " -7.0,\n",
       " 34.0,\n",
       " 2.9,\n",
       " -7.1,\n",
       " 1,\n",
       " 0,\n",
       " 1,\n",
       " 0,\n",
       " 0,\n",
       " 1,\n",
       " 0,\n",
       " 0,\n",
       " 0,\n",
       " 0,\n",
       " 0,\n",
       " 1,\n",
       " 0.0,\n",
       " 0.0,\n",
       " 0.0,\n",
       " 0.0]"
      ]
     },
     "execution_count": 14,
     "metadata": {},
     "output_type": "execute_result"
    }
   ],
   "source": [
    "env.observation()[:]"
   ]
  },
  {
   "cell_type": "code",
   "execution_count": 14,
   "metadata": {},
   "outputs": [
    {
     "data": {
      "text/plain": [
       "True"
      ]
     },
     "execution_count": 14,
     "metadata": {},
     "output_type": "execute_result"
    }
   ],
   "source": [
    "env.switch"
   ]
  },
  {
   "cell_type": "code",
   "execution_count": 12,
   "metadata": {},
   "outputs": [
    {
     "ename": "AttributeError",
     "evalue": "'Environment' object has no attribute 'p2_dead'",
     "output_type": "error",
     "traceback": [
      "\u001b[0;31m---------------------------------------------------------------------------\u001b[0m",
      "\u001b[0;31mAttributeError\u001b[0m                            Traceback (most recent call last)",
      "\u001b[0;32m<ipython-input-12-df8356f5b5b3>\u001b[0m in \u001b[0;36m<module>\u001b[0;34m()\u001b[0m\n\u001b[0;32m----> 1\u001b[0;31m \u001b[0menv\u001b[0m\u001b[1;33m.\u001b[0m\u001b[0mp2_dead\u001b[0m\u001b[1;33m\u001b[0m\u001b[0m\n\u001b[0m",
      "\u001b[0;31mAttributeError\u001b[0m: 'Environment' object has no attribute 'p2_dead'"
     ]
    }
   ],
   "source": [
    "env.p2_dead"
   ]
  },
  {
   "cell_type": "code",
   "execution_count": 13,
   "metadata": {},
   "outputs": [
    {
     "data": {
      "text/plain": [
       "0"
      ]
     },
     "execution_count": 13,
     "metadata": {},
     "output_type": "execute_result"
    }
   ],
   "source": [
    "env.p2_score"
   ]
  },
  {
   "cell_type": "code",
   "execution_count": 14,
   "metadata": {},
   "outputs": [
    {
     "data": {
      "text/plain": [
       "1"
      ]
     },
     "execution_count": 14,
     "metadata": {},
     "output_type": "execute_result"
    }
   ],
   "source": [
    "env.p2_score_prev"
   ]
  },
  {
   "cell_type": "code",
   "execution_count": 14,
   "metadata": {},
   "outputs": [
    {
     "name": "stdout",
     "output_type": "stream",
     "text": [
      "p2_dead\n",
      "player 2 dead?\n",
      "apparently\n",
      "100.0 -4.0\n"
     ]
    },
    {
     "data": {
      "text/plain": [
       "[100.0,\n",
       " -1.768,\n",
       " -6.64,\n",
       " -4.0,\n",
       " 0,\n",
       " 0,\n",
       " 1,\n",
       " 0,\n",
       " 0,\n",
       " 1,\n",
       " 0,\n",
       " 0,\n",
       " 0,\n",
       " 0,\n",
       " 0,\n",
       " 0,\n",
       " 0,\n",
       " 1,\n",
       " 0.0,\n",
       " 0,\n",
       " 0.0,\n",
       " 0]"
      ]
     },
     "execution_count": 14,
     "metadata": {},
     "output_type": "execute_result"
    }
   ],
   "source": [
    "env.__grab_features__()"
   ]
  },
  {
   "cell_type": "code",
   "execution_count": null,
   "metadata": {
    "collapsed": true
   },
   "outputs": [],
   "source": []
  }
 ],
 "metadata": {
  "anaconda-cloud": {},
  "kernelspec": {
   "display_name": "Python [default]",
   "language": "python",
   "name": "python3"
  },
  "language_info": {
   "codemirror_mode": {
    "name": "ipython",
    "version": 3
   },
   "file_extension": ".py",
   "mimetype": "text/x-python",
   "name": "python",
   "nbconvert_exporter": "python",
   "pygments_lexer": "ipython3",
   "version": "3.5.3"
  }
 },
 "nbformat": 4,
 "nbformat_minor": 1
}
