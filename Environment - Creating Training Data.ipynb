{
 "cells": [
  {
   "cell_type": "code",
   "execution_count": 1,
   "metadata": {
    "scrolled": true
   },
   "outputs": [
    {
     "name": "stderr",
     "output_type": "stream",
     "text": [
      "Using Theano backend.\n",
      "WARNING (theano.configdefaults): g++ not detected ! Theano will be unable to execute optimized C-implementations (for both CPU and GPU) and will default to Python implementations. Performance will be severely degraded. To remove this warning, set Theano flags cxx to an empty string.\n",
      "WARNING (theano.tensor.blas): Failed to import scipy.linalg.blas, and Theano flag blas.ldflags is empty. Falling back on slower implementations for dot(matrix, vector), dot(vector, matrix) and dot(vector, vector) (DLL load failed: %1 is not a valid Win32 application.)\n"
     ]
    }
   ],
   "source": [
    "import numpy as np\n",
    "import time\n",
    "import pandas as pd\n",
    "\n",
    "from game_functions.environment import sbfeatures as sbf\n",
    "from game_functions.model import brain"
   ]
  },
  {
   "cell_type": "code",
   "execution_count": 2,
   "metadata": {},
   "outputs": [
    {
     "name": "stdout",
     "output_type": "stream",
     "text": [
      "init\n"
     ]
    }
   ],
   "source": [
    "env = sbf.Environment()"
   ]
  },
  {
   "cell_type": "code",
   "execution_count": 3,
   "metadata": {},
   "outputs": [
    {
     "data": {
      "text/plain": [
       "5"
      ]
     },
     "execution_count": 3,
     "metadata": {},
     "output_type": "execute_result"
    }
   ],
   "source": [
    "env.controller(initialize=True, close=True)\n",
    "env.controller(initialize=True, opens=True)\n",
    "env.action(5, delay=0.1)"
   ]
  },
  {
   "cell_type": "code",
   "execution_count": 4,
   "metadata": {},
   "outputs": [
    {
     "name": "stdout",
     "output_type": "stream",
     "text": [
      "launching game...\n"
     ]
    }
   ],
   "source": [
    "env.make()"
   ]
  },
  {
   "cell_type": "code",
   "execution_count": 5,
   "metadata": {
    "collapsed": true
   },
   "outputs": [],
   "source": [
    "env.start_game(botsOn=True, mode='easy')"
   ]
  },
  {
   "cell_type": "code",
   "execution_count": 4,
   "metadata": {},
   "outputs": [
    {
     "name": "stdout",
     "output_type": "stream",
     "text": [
      "hwnd: 3803426\n",
      "pid: c_long(13276)\n"
     ]
    }
   ],
   "source": [
    "env.initalize_memory()"
   ]
  },
  {
   "cell_type": "code",
   "execution_count": 5,
   "metadata": {},
   "outputs": [
    {
     "name": "stdout",
     "output_type": "stream",
     "text": [
      "[100.0, 4.0, -7.166, 12.0, -6.9, -7.1, 0, 1, 0, 1, 0, 1, 0, 0, 0, 0, 0, 1, 4.0, -6.9, -7.166, -7.1]\n"
     ]
    }
   ],
   "source": [
    "print(env.observation())\n",
    "#env.__grab_addresses__()\n",
    "#env.__grab_features__()"
   ]
  },
  {
   "cell_type": "code",
   "execution_count": 8,
   "metadata": {},
   "outputs": [
    {
     "name": "stdout",
     "output_type": "stream",
     "text": [
      "-25000 -25000\n"
     ]
    }
   ],
   "source": [
    "print(env.p1_score, env.p2_score)"
   ]
  },
  {
   "cell_type": "code",
   "execution_count": 8,
   "metadata": {},
   "outputs": [
    {
     "name": "stdout",
     "output_type": "stream",
     "text": [
      "Reward structure defined!\n"
     ]
    }
   ],
   "source": [
    "env.reward_structure(p1_death=-1, p2_death=1, p1_damage=-0.01, p2_damage=0.01)"
   ]
  },
  {
   "cell_type": "code",
   "execution_count": 10,
   "metadata": {},
   "outputs": [
    {
     "name": "stdout",
     "output_type": "stream",
     "text": [
      "[100.0, 9.0, -7.165, 100.0, -3.3, -7.1, 0, 1, 0, 1, 0, 1, 0, 0, 0, 0, 0, 1, 0.0, 0.0, 0.0, 0.0]\n"
     ]
    }
   ],
   "source": [
    "#print(env.features)\n",
    "print(env.observation())"
   ]
  },
  {
   "cell_type": "code",
   "execution_count": 11,
   "metadata": {},
   "outputs": [
    {
     "name": "stdout",
     "output_type": "stream",
     "text": [
      "0\n"
     ]
    }
   ],
   "source": [
    "print(env.reward(stale_observation=env.features, \n",
    "                 new_observation=env.observation()))"
   ]
  },
  {
   "cell_type": "code",
   "execution_count": 6,
   "metadata": {
    "scrolled": true
   },
   "outputs": [
    {
     "data": {
      "text/plain": [
       "5"
      ]
     },
     "execution_count": 6,
     "metadata": {},
     "output_type": "execute_result"
    }
   ],
   "source": [
    "\n",
    "env.action(5, delay=0.1)"
   ]
  },
  {
   "cell_type": "code",
   "execution_count": null,
   "metadata": {},
   "outputs": [
    {
     "name": "stdout",
     "output_type": "stream",
     "text": [
      "Saving Training Experience...\n",
      "Saving Training Experience...\n"
     ]
    }
   ],
   "source": [
    "import time\n",
    "import random\n",
    "import datetime\n",
    "\n",
    "episode = 0\n",
    "training_backup = 2500\n",
    "save_location = \"training_data\\\\\"\n",
    "training_batch = []\n",
    "\n",
    "# action settings\n",
    "randomness = True\n",
    "\n",
    "#score keeping\n",
    "p1_score = 0\n",
    "p2_score = 0\n",
    "\n",
    "#init#\n",
    "prev_observation = env.observation()[:]\n",
    "observation = env.observation()[:]\n",
    "header = ['episode','p1h', 'p1_x',' p1_y', 'p2h', 'p2_x',' p2_y',\n",
    "          'right_of', 'left_of', 'above', 'below', 'x_clear', 'y_clear',\n",
    "          'cd1', 'cd2',\n",
    "         'aim_down', 'aim_left', 'aim_up', 'aim_right',\n",
    "         'p1_x_delta', 'p2_x_delta', 'p1_y_delta', 'p2_y_delta',\n",
    "         'action', 'reward', 'p1_score', 'p2_score']\n",
    "\n",
    "while True:\n",
    "    try:\n",
    "        episode += 1\n",
    "        \n",
    "        #random action\n",
    "        if randomness:\n",
    "            action = random.randint(0, 7)\n",
    "\n",
    "        env.action(action, delay=0.1)\n",
    "        \n",
    "        observation = env.observation()[:]\n",
    "        reward = env.reward(stale_observation=prev_observation, \n",
    "                            new_observation=observation)\n",
    "        \n",
    "        datapoint = [episode]\n",
    "        datapoint.extend(observation)\n",
    "        datapoint.append(action)\n",
    "        datapoint.append(reward)\n",
    "        datapoint.extend([env.p1_score + 25000, env.p2_score + 25000])\n",
    "        training_batch.append(datapoint)\n",
    "\n",
    "        if (len(training_batch) % training_backup) == 0:\n",
    "            name =  save_location + str(episode) + '_training_backup_' + datetime.datetime.today().strftime('%Y%m%d_%H%M') + '.csv'\n",
    "            exp = pd.DataFrame(training_batch)\n",
    "            exp.columns = header\n",
    "            exp.to_csv(name, index=False)\n",
    "            print('Saving Training Experience...')\n",
    "            training_batch = []\n",
    "        \n",
    "        prev_observation = observation\n",
    "    except Exception:\n",
    "        episode -= 1\n",
    "        print('Error Reading Memory')\n",
    "        time.sleep(0.25)"
   ]
  },
  {
   "cell_type": "code",
   "execution_count": null,
   "metadata": {
    "collapsed": true
   },
   "outputs": [],
   "source": []
  },
  {
   "cell_type": "code",
   "execution_count": null,
   "metadata": {
    "collapsed": true
   },
   "outputs": [],
   "source": []
  },
  {
   "cell_type": "code",
   "execution_count": null,
   "metadata": {
    "collapsed": true
   },
   "outputs": [],
   "source": []
  }
 ],
 "metadata": {
  "anaconda-cloud": {},
  "kernelspec": {
   "display_name": "Python [conda env:py35_32]",
   "language": "python",
   "name": "conda-env-py35_32-py"
  },
  "language_info": {
   "codemirror_mode": {
    "name": "ipython",
    "version": 3
   },
   "file_extension": ".py",
   "mimetype": "text/x-python",
   "name": "python",
   "nbconvert_exporter": "python",
   "pygments_lexer": "ipython3",
   "version": "3.5.2"
  }
 },
 "nbformat": 4,
 "nbformat_minor": 1
}
