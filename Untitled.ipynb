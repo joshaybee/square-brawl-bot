{
 "cells": [
  {
   "cell_type": "code",
   "execution_count": 7,
   "metadata": {
    "collapsed": false
   },
   "outputs": [
    {
     "ename": "ImportError",
     "evalue": "No module named 'wx'",
     "output_type": "error",
     "traceback": [
      "\u001b[0;31m---------------------------------------------------------------------------\u001b[0m",
      "\u001b[0;31mImportError\u001b[0m                               Traceback (most recent call last)",
      "\u001b[0;32m<ipython-input-7-025b8759040e>\u001b[0m in \u001b[0;36m<module>\u001b[0;34m()\u001b[0m\n\u001b[1;32m      3\u001b[0m \u001b[1;32mimport\u001b[0m \u001b[0mpygame\u001b[0m\u001b[1;33m\u001b[0m\u001b[0m\n\u001b[1;32m      4\u001b[0m \u001b[1;33m\u001b[0m\u001b[0m\n\u001b[0;32m----> 5\u001b[0;31m \u001b[1;32mimport\u001b[0m \u001b[0mwx\u001b[0m\u001b[1;33m\u001b[0m\u001b[0m\n\u001b[0m\u001b[1;32m      6\u001b[0m \u001b[0mwx\u001b[0m\u001b[1;33m.\u001b[0m\u001b[0mApp\u001b[0m\u001b[1;33m(\u001b[0m\u001b[1;33m)\u001b[0m\u001b[1;33m\u001b[0m\u001b[0m\n\u001b[1;32m      7\u001b[0m \u001b[1;33m\u001b[0m\u001b[0m\n",
      "\u001b[0;31mImportError\u001b[0m: No module named 'wx'"
     ]
    }
   ],
   "source": [
    "import sys\n",
    "import array\n",
    "import pygame\n",
    "\n",
    "import wx\n",
    "wx.App()\n",
    "\n",
    "def take_screenshot():\n",
    "    screen = wx.ScreenDC()\n",
    "    bmp = wx.Bitmap(Screenshot.SRC_W, Screenshot.SRC_H)\n",
    "    mem = wx.MemoryDC(bmp)\n",
    "    mem.Blit(0, 0, Screenshot.SRC_W, Screenshot.SRC_H, screen, Screenshot.OFFSET_X, Screenshot.OFFSET_Y)\n",
    "    return bmp\n",
    "\n",
    "def prepare_image(img):\n",
    "    if(type(img) == wx._core.Bitmap):\n",
    "        img.CopyToBuffer(Screenshot.image_array)\n",
    "        img = np.frombuffer(Screenshot.image_array, dtype=np.uint8)\n",
    "\n",
    "    img = img.reshape(Screenshot.SRC_H, Screenshot.SRC_W, Screenshot.SRC_D)\n",
    "\n",
    "    im = Image.fromarray(img)\n",
    "    im = im.resize((Screenshot.IMG_W, Screenshot.IMG_H))\n",
    "\n",
    "    im_arr = np.frombuffer(im.tobytes(), dtype=np.uint8)\n",
    "    im_arr = im_arr.reshape((Screenshot.IMG_H, Screenshot.IMG_W, Screenshot.IMG_D))\n",
    "\n",
    "    return img_as_float(im_arr)\n",
    "\n",
    "class Screenshot:\n",
    "    SRC_W = 615\n",
    "    SRC_H = 480\n",
    "    SRC_D = 3\n",
    "\n",
    "    OFFSET_X = 0\n",
    "    OFFSET_Y = 0\n",
    "\n",
    "    IMG_W = 200\n",
    "    IMG_H = 66\n",
    "    IMG_D = 3\n",
    "\n",
    "    image_array = array.array('B', [0] * (SRC_W * SRC_H * SRC_D));\n",
    "\n",
    "\n",
    "# prepare training data\n",
    "def prepare(samples):\n",
    "    #print \"Preparing data\"\n",
    "\n",
    "    X = []\n",
    "    y = []\n",
    "\n",
    "    for sample in samples:\n",
    "        #print sample\n",
    "\n",
    "        # load sample\n",
    "        image_files, joystick_values = load_sample(sample)\n",
    "\n",
    "        # add joystick values to y\n",
    "        y.append(joystick_values)\n",
    "\n",
    "        # load, prepare and add images to X\n",
    "        for image_file in image_files:\n",
    "            image = imread(image_file)\n",
    "            vec = prepare_image(image)\n",
    "            X.append(vec)\n",
    "\n",
    "    #print \"Saving to file...\"\n",
    "    X = np.asarray(X)\n",
    "    y = np.concatenate(y)\n",
    "\n",
    "    np.save(\"data/X\", X)\n",
    "    np.save(\"data/y\", y)\n",
    "\n",
    "    #print \"Done!\"\n",
    "    return\n"
   ]
  },
  {
   "cell_type": "code",
   "execution_count": 4,
   "metadata": {
    "collapsed": false
   },
   "outputs": [
    {
     "ename": "NameError",
     "evalue": "name 'take_screenshot' is not defined",
     "output_type": "error",
     "traceback": [
      "\u001b[0;31m---------------------------------------------------------------------------\u001b[0m",
      "\u001b[0;31mNameError\u001b[0m                                 Traceback (most recent call last)",
      "\u001b[0;32m<ipython-input-4-eb43ab05c8d4>\u001b[0m in \u001b[0;36m<module>\u001b[0;34m()\u001b[0m\n\u001b[0;32m----> 1\u001b[0;31m \u001b[0mtake_screenshot\u001b[0m\u001b[1;33m\u001b[0m\u001b[0m\n\u001b[0m",
      "\u001b[0;31mNameError\u001b[0m: name 'take_screenshot' is not defined"
     ]
    }
   ],
   "source": [
    "take_screenshot"
   ]
  },
  {
   "cell_type": "code",
   "execution_count": 1,
   "metadata": {
    "collapsed": true
   },
   "outputs": [],
   "source": [
    "from distutils import msvc9compiler"
   ]
  },
  {
   "cell_type": "code",
   "execution_count": 2,
   "metadata": {
    "collapsed": false
   },
   "outputs": [
    {
     "name": "stdout",
     "output_type": "stream",
     "text": [
      "Software\\Microsoft\\VisualStudio\\14.0\n"
     ]
    },
    {
     "data": {
      "text/plain": [
       "'C:\\\\Program Files (x86)\\\\Microsoft Visual Studio 14.0\\\\VC\\\\vcvarsall.bat'"
      ]
     },
     "execution_count": 2,
     "metadata": {},
     "output_type": "execute_result"
    }
   ],
   "source": [
    "msvc9compiler.find_vcvarsall(14.0)"
   ]
  },
  {
   "cell_type": "code",
   "execution_count": 5,
   "metadata": {
    "collapsed": false
   },
   "outputs": [
    {
     "name": "stdout",
     "output_type": "stream",
     "text": [
      "Software\\Microsoft\\VisualStudio\\9.0\n",
      "KeyError Unable to find productdir in registry\n",
      "Unable to find vcvarsall.bat\n"
     ]
    }
   ],
   "source": [
    "msvc9compiler.find_vcvarsall(9.0)"
   ]
  },
  {
   "cell_type": "code",
   "execution_count": null,
   "metadata": {
    "collapsed": true
   },
   "outputs": [],
   "source": []
  }
 ],
 "metadata": {
  "anaconda-cloud": {},
  "kernelspec": {
   "display_name": "Python [conda env:py35_32]",
   "language": "python",
   "name": "conda-env-py35_32-py"
  },
  "language_info": {
   "codemirror_mode": {
    "name": "ipython",
    "version": 3
   },
   "file_extension": ".py",
   "mimetype": "text/x-python",
   "name": "python",
   "nbconvert_exporter": "python",
   "pygments_lexer": "ipython3",
   "version": "3.5.2"
  }
 },
 "nbformat": 4,
 "nbformat_minor": 1
}
