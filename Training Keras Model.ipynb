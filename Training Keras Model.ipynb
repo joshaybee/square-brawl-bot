{
 "cells": [
  {
   "cell_type": "code",
   "execution_count": 2,
   "metadata": {
    "collapsed": true
   },
   "outputs": [],
   "source": [
    "import glob\n",
    "import os\n",
    "import pandas as pd\n",
    "import numpy as np"
   ]
  },
  {
   "cell_type": "code",
   "execution_count": 3,
   "metadata": {
    "collapsed": true
   },
   "outputs": [],
   "source": [
    "files = glob.glob('training_data\\\\20160617\\\\*')\n",
    "sfiles = sorted(files, key=os.path.getctime)"
   ]
  },
  {
   "cell_type": "code",
   "execution_count": 4,
   "metadata": {
    "collapsed": true
   },
   "outputs": [],
   "source": [
    "trains = pd.DataFrame()\n",
    "for sfile in sfiles:\n",
    "    train = pd.read_csv(sfile)\n",
    "    trains = pd.concat([trains, train])"
   ]
  },
  {
   "cell_type": "code",
   "execution_count": 5,
   "metadata": {
    "collapsed": true
   },
   "outputs": [],
   "source": [
    "trains = trains.reset_index().drop('index',axis=1)"
   ]
  },
  {
   "cell_type": "code",
   "execution_count": 6,
   "metadata": {},
   "outputs": [
    {
     "name": "stderr",
     "output_type": "stream",
     "text": [
      "c:\\program files\\anaconda3\\envs\\sb\\lib\\site-packages\\ipykernel_launcher.py:6: DeprecationWarning: \n",
      ".ix is deprecated. Please use\n",
      ".loc for label based indexing or\n",
      ".iloc for positional indexing\n",
      "\n",
      "See the documentation here:\n",
      "http://pandas.pydata.org/pandas-docs/stable/indexing.html#deprecate_ix\n",
      "  \n"
     ]
    }
   ],
   "source": [
    "rows = trains.shape[0]\n",
    "prev_score = 0\n",
    "prev_row = 0\n",
    "kills = []\n",
    "for row in range(rows):\n",
    "    if trains.ix[row, 'p1_score'] != prev_score:\n",
    "        kills.append([prev_row, row])\n",
    "        prev_score = trains.ix[row, 'p1_score']\n",
    "        prev_row = row + 1\n"
   ]
  },
  {
   "cell_type": "code",
   "execution_count": 7,
   "metadata": {
    "collapsed": true
   },
   "outputs": [],
   "source": [
    "trains['reward_adjusted'] = 0"
   ]
  },
  {
   "cell_type": "code",
   "execution_count": 8,
   "metadata": {
    "collapsed": true
   },
   "outputs": [],
   "source": [
    "td_lookback = 25\n",
    "decay = 0.9\n",
    "reward = 1\n",
    "\n",
    "for kill in kills:\n",
    "    killpoint = kill[1]\n",
    "    exponent = td_lookback - 1\n",
    "    for row in range(killpoint - td_lookback, killpoint):\n",
    "        trains.ix[row, 'reward_adjusted'] = reward * decay ** exponent\n",
    "        exponent -= 1"
   ]
  },
  {
   "cell_type": "code",
   "execution_count": 9,
   "metadata": {
    "collapsed": true
   },
   "outputs": [],
   "source": [
    "trains_backup = trains.copy()"
   ]
  },
  {
   "cell_type": "code",
   "execution_count": 10,
   "metadata": {
    "collapsed": true
   },
   "outputs": [],
   "source": [
    "drop_cols = ['episode', 'reward', 'p1_score', 'p2_score', 'reward_adjusted',\n",
    "             'p1_x_delta', 'p2_x_delta', 'p1_y_delta', 'p2_y_delta',\n",
    "            'p1h', 'p2h']\n",
    "y = trains_backup['reward_adjusted']\n",
    "for item in drop_cols:\n",
    "    trains_backup.drop(item,inplace=True,axis=1)"
   ]
  },
  {
   "cell_type": "code",
   "execution_count": 11,
   "metadata": {},
   "outputs": [
    {
     "data": {
      "text/html": [
       "<div>\n",
       "<style>\n",
       "    .dataframe thead tr:only-child th {\n",
       "        text-align: right;\n",
       "    }\n",
       "\n",
       "    .dataframe thead th {\n",
       "        text-align: left;\n",
       "    }\n",
       "\n",
       "    .dataframe tbody tr th {\n",
       "        vertical-align: top;\n",
       "    }\n",
       "</style>\n",
       "<table border=\"1\" class=\"dataframe\">\n",
       "  <thead>\n",
       "    <tr style=\"text-align: right;\">\n",
       "      <th></th>\n",
       "      <th>p1_x</th>\n",
       "      <th>p1_y</th>\n",
       "      <th>p2_x</th>\n",
       "      <th>p2_y</th>\n",
       "      <th>right_of</th>\n",
       "      <th>left_of</th>\n",
       "      <th>above</th>\n",
       "      <th>below</th>\n",
       "      <th>x_clear</th>\n",
       "      <th>y_clear</th>\n",
       "      <th>cd1</th>\n",
       "      <th>cd2</th>\n",
       "      <th>aim_down</th>\n",
       "      <th>aim_left</th>\n",
       "      <th>aim_up</th>\n",
       "      <th>aim_right</th>\n",
       "      <th>action</th>\n",
       "    </tr>\n",
       "  </thead>\n",
       "  <tbody>\n",
       "    <tr>\n",
       "      <th>0</th>\n",
       "      <td>2.0</td>\n",
       "      <td>-3.7</td>\n",
       "      <td>-8.0</td>\n",
       "      <td>5.3</td>\n",
       "      <td>0</td>\n",
       "      <td>1</td>\n",
       "      <td>0</td>\n",
       "      <td>1</td>\n",
       "      <td>0</td>\n",
       "      <td>0</td>\n",
       "      <td>0</td>\n",
       "      <td>0</td>\n",
       "      <td>1</td>\n",
       "      <td>0</td>\n",
       "      <td>0</td>\n",
       "      <td>0</td>\n",
       "      <td>1</td>\n",
       "    </tr>\n",
       "    <tr>\n",
       "      <th>1</th>\n",
       "      <td>2.0</td>\n",
       "      <td>-3.7</td>\n",
       "      <td>-8.0</td>\n",
       "      <td>5.3</td>\n",
       "      <td>0</td>\n",
       "      <td>1</td>\n",
       "      <td>0</td>\n",
       "      <td>1</td>\n",
       "      <td>0</td>\n",
       "      <td>0</td>\n",
       "      <td>0</td>\n",
       "      <td>0</td>\n",
       "      <td>1</td>\n",
       "      <td>0</td>\n",
       "      <td>0</td>\n",
       "      <td>0</td>\n",
       "      <td>5</td>\n",
       "    </tr>\n",
       "  </tbody>\n",
       "</table>\n",
       "</div>"
      ],
      "text/plain": [
       "   p1_x   p1_y  p2_x   p2_y  right_of  left_of  above  below  x_clear  \\\n",
       "0   2.0   -3.7  -8.0    5.3         0        1      0      1        0   \n",
       "1   2.0   -3.7  -8.0    5.3         0        1      0      1        0   \n",
       "\n",
       "   y_clear  cd1  cd2  aim_down  aim_left  aim_up  aim_right  action  \n",
       "0        0    0    0         1         0       0          0       1  \n",
       "1        0    0    0         1         0       0          0       5  "
      ]
     },
     "execution_count": 11,
     "metadata": {},
     "output_type": "execute_result"
    }
   ],
   "source": [
    "trains_backup.head(2)"
   ]
  },
  {
   "cell_type": "code",
   "execution_count": 1,
   "metadata": {},
   "outputs": [
    {
     "name": "stderr",
     "output_type": "stream",
     "text": [
      "Using Theano backend.\n"
     ]
    }
   ],
   "source": [
    "from keras.models import Sequential\n",
    "from keras.layers import Dense, Activation\n",
    "from keras.optimizers import Adam\n",
    "from keras.layers import Dropout\n",
    "\n",
    "\n",
    "def keras_model(inputs, dropouts=0.2, opti=1e-6, clipping=0.1, clipval=10):\n",
    "    keras_model = Sequential()\n",
    "    keras_model.add(Dense(128, input_dim=inputs, activation='relu'))\n",
    "    keras_model.add(Dropout(dropouts))\n",
    "    keras_model.add(Dense(128, activation='relu'))\n",
    "    keras_model.add(Dropout(dropouts))\n",
    "    keras_model.add(Dense(1))\n",
    "    adam = Adam(lr=opti, clipnorm=clipping, clipvalue=clipval)\n",
    "    keras_model.compile(loss='mse', optimizer='adam')\n",
    "    return keras_model\n"
   ]
  },
  {
   "cell_type": "code",
   "execution_count": 4,
   "metadata": {},
   "outputs": [],
   "source": [
    "input_shape = trains_backup.shape[1]\n",
    "\n",
    "\n",
    "Qas = keras_model(inputs=input_shape, dropouts=0.2, opti=1e-6, clipping=0.05, clipval=10)"
   ]
  },
  {
   "cell_type": "code",
   "execution_count": 13,
   "metadata": {
    "collapsed": true
   },
   "outputs": [],
   "source": [
    "training_set = np.array(trains_backup)\n",
    "Y = np.array(y)"
   ]
  },
  {
   "cell_type": "code",
   "execution_count": 14,
   "metadata": {},
   "outputs": [
    {
     "name": "stderr",
     "output_type": "stream",
     "text": [
      "c:\\program files\\anaconda3\\envs\\sb\\lib\\site-packages\\keras\\models.py:851: UserWarning: The `nb_epoch` argument in `fit` has been renamed `epochs`.\n",
      "  warnings.warn('The `nb_epoch` argument in `fit` '\n"
     ]
    },
    {
     "name": "stdout",
     "output_type": "stream",
     "text": [
      "Epoch 1/50\n",
      "170000/170000 [==============================] - 9s - loss: 0.0673     \n",
      "Epoch 2/50\n",
      "170000/170000 [==============================] - 17s - loss: 0.0108    \n",
      "Epoch 3/50\n",
      "170000/170000 [==============================] - 26s - loss: 0.0107    \n",
      "Epoch 4/50\n",
      "170000/170000 [==============================] - 32s - loss: 0.0107    \n",
      "Epoch 5/50\n",
      "170000/170000 [==============================] - 32s - loss: 0.0106    \n",
      "Epoch 6/50\n",
      "170000/170000 [==============================] - 32s - loss: 0.0106    \n",
      "Epoch 7/50\n",
      "170000/170000 [==============================] - 34s - loss: 0.0106    \n",
      "Epoch 8/50\n",
      "170000/170000 [==============================] - 32s - loss: 0.0106    \n",
      "Epoch 9/50\n",
      "170000/170000 [==============================] - 32s - loss: 0.0106    \n",
      "Epoch 10/50\n",
      "170000/170000 [==============================] - 37s - loss: 0.0106    \n",
      "Epoch 11/50\n",
      "170000/170000 [==============================] - 36s - loss: 0.0106    \n",
      "Epoch 12/50\n",
      "170000/170000 [==============================] - 32s - loss: 0.0106    \n",
      "Epoch 13/50\n",
      "170000/170000 [==============================] - 33s - loss: 0.0106    \n",
      "Epoch 14/50\n",
      "170000/170000 [==============================] - 32s - loss: 0.0106    \n",
      "Epoch 15/50\n",
      "170000/170000 [==============================] - 33s - loss: 0.0106    \n",
      "Epoch 16/50\n",
      "170000/170000 [==============================] - 36s - loss: 0.0106    \n",
      "Epoch 17/50\n",
      "170000/170000 [==============================] - 38s - loss: 0.0106    \n",
      "Epoch 18/50\n",
      "170000/170000 [==============================] - 39s - loss: 0.0106    \n",
      "Epoch 19/50\n",
      "170000/170000 [==============================] - 39s - loss: 0.0106    \n",
      "Epoch 20/50\n",
      "170000/170000 [==============================] - 38s - loss: 0.0107    \n",
      "Epoch 21/50\n",
      "170000/170000 [==============================] - 42s - loss: 0.0106    \n",
      "Epoch 22/50\n",
      "170000/170000 [==============================] - 39s - loss: 0.0106    \n",
      "Epoch 23/50\n",
      "170000/170000 [==============================] - 38s - loss: 0.0106    \n",
      "Epoch 24/50\n",
      "170000/170000 [==============================] - 38s - loss: 0.0106    \n",
      "Epoch 25/50\n",
      "170000/170000 [==============================] - 40s - loss: 0.0106    \n",
      "Epoch 26/50\n",
      "170000/170000 [==============================] - 41s - loss: 0.0106    \n",
      "Epoch 27/50\n",
      "170000/170000 [==============================] - 42s - loss: 0.0106    \n",
      "Epoch 28/50\n",
      "170000/170000 [==============================] - 39s - loss: 0.0106    \n",
      "Epoch 29/50\n",
      "170000/170000 [==============================] - 42s - loss: 0.0106    \n",
      "Epoch 30/50\n",
      "170000/170000 [==============================] - 41s - loss: 0.0106    \n",
      "Epoch 31/50\n",
      "170000/170000 [==============================] - 40s - loss: 0.0106    \n",
      "Epoch 32/50\n",
      "170000/170000 [==============================] - 40s - loss: 0.0106    \n",
      "Epoch 33/50\n",
      "170000/170000 [==============================] - 41s - loss: 0.0106    \n",
      "Epoch 34/50\n",
      "170000/170000 [==============================] - 40s - loss: 0.0106    \n",
      "Epoch 35/50\n",
      "170000/170000 [==============================] - 40s - loss: 0.0106    \n",
      "Epoch 36/50\n",
      "170000/170000 [==============================] - 42s - loss: 0.0106    \n",
      "Epoch 37/50\n",
      "170000/170000 [==============================] - 41s - loss: 0.0106    \n",
      "Epoch 38/50\n",
      "170000/170000 [==============================] - 46s - loss: 0.0106    \n",
      "Epoch 39/50\n",
      "170000/170000 [==============================] - 40s - loss: 0.0106    \n",
      "Epoch 40/50\n",
      "170000/170000 [==============================] - 42s - loss: 0.0106    \n",
      "Epoch 41/50\n",
      "170000/170000 [==============================] - 45s - loss: 0.0106    \n",
      "Epoch 42/50\n",
      "170000/170000 [==============================] - 40s - loss: 0.0106    \n",
      "Epoch 43/50\n",
      "170000/170000 [==============================] - 41s - loss: 0.0106    \n",
      "Epoch 44/50\n",
      "170000/170000 [==============================] - 40s - loss: 0.0106    \n",
      "Epoch 45/50\n",
      "170000/170000 [==============================] - 42s - loss: 0.0106    \n",
      "Epoch 46/50\n",
      "170000/170000 [==============================] - 42s - loss: 0.0106    \n",
      "Epoch 47/50\n",
      "170000/170000 [==============================] - 42s - loss: 0.0106    \n",
      "Epoch 48/50\n",
      "170000/170000 [==============================] - 43s - loss: 0.0106    \n",
      "Epoch 49/50\n",
      "170000/170000 [==============================] - 41s - loss: 0.0106    \n",
      "Epoch 50/50\n",
      "170000/170000 [==============================] - 43s - loss: 0.0106    \n"
     ]
    },
    {
     "data": {
      "text/plain": [
       "<keras.callbacks.History at 0xc3594d0>"
      ]
     },
     "execution_count": 14,
     "metadata": {},
     "output_type": "execute_result"
    }
   ],
   "source": [
    "Qas.fit(training_set, Y, epochs=50, verbose=1)"
   ]
  },
  {
   "cell_type": "code",
   "execution_count": 5,
   "metadata": {},
   "outputs": [],
   "source": [
    "import h5py\n",
    "Qas.save_weights(\"SB-Qas-v0.keras\")"
   ]
  },
  {
   "cell_type": "code",
   "execution_count": 32,
   "metadata": {},
   "outputs": [
    {
     "ename": "SyntaxError",
     "evalue": "unexpected EOF while parsing (<ipython-input-32-6fec285e563b>, line 2)",
     "output_type": "error",
     "traceback": [
      "\u001b[0;36m  File \u001b[0;32m\"<ipython-input-32-6fec285e563b>\"\u001b[0;36m, line \u001b[0;32m2\u001b[0m\n\u001b[0;31m    action_rewards = Qas.predict(predictions\u001b[0m\n\u001b[0m                                            ^\u001b[0m\n\u001b[0;31mSyntaxError\u001b[0m\u001b[0;31m:\u001b[0m unexpected EOF while parsing\n"
     ]
    }
   ],
   "source": [
    "datapoint = env.create_predictions(datapoint)\n",
    "action_rewards = Qas.predict(predictions"
   ]
  },
  {
   "cell_type": "code",
   "execution_count": null,
   "metadata": {
    "collapsed": true
   },
   "outputs": [],
   "source": [
    "#action = np.where(advantage == np.amax(advantage))[0][0]\n",
    "        #action = np.where(action_rewards == np.amax(action_rewards))[0][0] # greedy action"
   ]
  },
  {
   "cell_type": "code",
   "execution_count": null,
   "metadata": {
    "collapsed": true
   },
   "outputs": [],
   "source": []
  },
  {
   "cell_type": "code",
   "execution_count": null,
   "metadata": {
    "collapsed": true
   },
   "outputs": [],
   "source": []
  }
 ],
 "metadata": {
  "kernelspec": {
   "display_name": "Python 3",
   "language": "python",
   "name": "python3"
  },
  "language_info": {
   "codemirror_mode": {
    "name": "ipython",
    "version": 3
   },
   "file_extension": ".py",
   "mimetype": "text/x-python",
   "name": "python",
   "nbconvert_exporter": "python",
   "pygments_lexer": "ipython3",
   "version": "3.5.2"
  }
 },
 "nbformat": 4,
 "nbformat_minor": 2
}
